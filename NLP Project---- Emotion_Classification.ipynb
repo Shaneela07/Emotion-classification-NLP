{
 "cells": [
  {
   "cell_type": "markdown",
   "id": "5be5f275",
   "metadata": {},
   "source": [
    "# NLP Emotion Classification From Text\n",
    "\n",
    "**This project is based on Machine Learning and Natural Language Processing (NLP) techniques and focuses on emotion classification. The dataset consists of sentences labeled with different emotions (e.g., joy, anger, sadness). The goal is to build machine learning models that can automatically classify emotions from raw text.**"
   ]
  },
  {
   "cell_type": "markdown",
   "id": "9771a478",
   "metadata": {},
   "source": [
    "## 1. Setup & Imports"
   ]
  },
  {
   "cell_type": "code",
   "execution_count": 1,
   "id": "c1ae113b",
   "metadata": {},
   "outputs": [],
   "source": [
    "import pandas as pd\n",
    "import numpy as np\n",
    "import matplotlib.pyplot as plt\n",
    "import seaborn as sns\n",
    "import warnings\n",
    "warnings.filterwarnings('ignore')\n",
    "\n",
    "from sklearn.model_selection import train_test_split, GridSearchCV\n",
    "from sklearn.naive_bayes import MultinomialNB\n",
    "from sklearn.linear_model import LogisticRegression\n",
    "from sklearn.svm import LinearSVC\n",
    "from xgboost import XGBClassifier\n",
    "from sklearn.metrics import accuracy_score, confusion_matrix, classification_report\n",
    "import nltk"
   ]
  },
  {
   "cell_type": "markdown",
   "id": "868975d7",
   "metadata": {},
   "source": [
    "## 2. Load & Preprocess"
   ]
  },
  {
   "cell_type": "code",
   "execution_count": 2,
   "id": "e513b848",
   "metadata": {},
   "outputs": [],
   "source": [
    "df = pd.read_csv(\"train.txt\", sep=\";\", header=None, names=[\"text\", \"emotion\"])\n",
    "\n",
    "unique_emotion = {emo: i for i, emo in enumerate(df[\"emotion\"].unique())}\n",
    "emotion_numbers = {i: emo for emo, i in unique_emotion.items()}\n",
    "df[\"label\"] = df[\"emotion\"].map(unique_emotion)\n"
   ]
  },
  {
   "cell_type": "code",
   "execution_count": 3,
   "id": "7f015b0d",
   "metadata": {},
   "outputs": [
    {
     "data": {
      "text/html": [
       "<div>\n",
       "<style scoped>\n",
       "    .dataframe tbody tr th:only-of-type {\n",
       "        vertical-align: middle;\n",
       "    }\n",
       "\n",
       "    .dataframe tbody tr th {\n",
       "        vertical-align: top;\n",
       "    }\n",
       "\n",
       "    .dataframe thead th {\n",
       "        text-align: right;\n",
       "    }\n",
       "</style>\n",
       "<table border=\"1\" class=\"dataframe\">\n",
       "  <thead>\n",
       "    <tr style=\"text-align: right;\">\n",
       "      <th></th>\n",
       "      <th>text</th>\n",
       "      <th>emotion</th>\n",
       "      <th>label</th>\n",
       "    </tr>\n",
       "  </thead>\n",
       "  <tbody>\n",
       "    <tr>\n",
       "      <th>0</th>\n",
       "      <td>i didnt feel humiliated</td>\n",
       "      <td>sadness</td>\n",
       "      <td>0</td>\n",
       "    </tr>\n",
       "    <tr>\n",
       "      <th>1</th>\n",
       "      <td>i can go from feeling so hopeless to so damned...</td>\n",
       "      <td>sadness</td>\n",
       "      <td>0</td>\n",
       "    </tr>\n",
       "    <tr>\n",
       "      <th>2</th>\n",
       "      <td>im grabbing a minute to post i feel greedy wrong</td>\n",
       "      <td>anger</td>\n",
       "      <td>1</td>\n",
       "    </tr>\n",
       "  </tbody>\n",
       "</table>\n",
       "</div>"
      ],
      "text/plain": [
       "                                                text  emotion  label\n",
       "0                            i didnt feel humiliated  sadness      0\n",
       "1  i can go from feeling so hopeless to so damned...  sadness      0\n",
       "2   im grabbing a minute to post i feel greedy wrong    anger      1"
      ]
     },
     "execution_count": 3,
     "metadata": {},
     "output_type": "execute_result"
    }
   ],
   "source": [
    "df.head(3)"
   ]
  },
  {
   "cell_type": "code",
   "execution_count": 4,
   "id": "622a00e3",
   "metadata": {},
   "outputs": [],
   "source": [
    "from nltk.corpus import stopwords\n",
    "from nltk.tokenize import word_tokenize\n",
    "import string\n",
    "\n",
    "def remove_punc(txt):\n",
    "    return txt.translate(str.maketrans('', '', string.punctuation))\n",
    "\n",
    "def remove_numbers(txt):\n",
    "    return ''.join([i for i in txt if not i.isdigit()])\n",
    "\n",
    "def remove_emojis(txt):\n",
    "    return ''.join([i for i in txt if i.isascii()])\n",
    "\n",
    "nltk.download(\"stopwords\", quiet=True)\n",
    "stop_words = set(stopwords.words('english'))\n",
    "\n",
    "def remove_stopwords(txt):\n",
    "    return ' '.join([w for w in txt.split() if w not in stop_words])\n",
    "\n",
    "df[\"clean_text\"] = (df[\"text\"].astype(str).str.lower()\n",
    "                    .apply(remove_punc)\n",
    "                    .apply(remove_numbers)\n",
    "                    .apply(remove_emojis)\n",
    "                    .apply(remove_stopwords))\n"
   ]
  },
  {
   "cell_type": "code",
   "execution_count": 5,
   "id": "1216f47f",
   "metadata": {},
   "outputs": [
    {
     "data": {
      "text/html": [
       "<div>\n",
       "<style scoped>\n",
       "    .dataframe tbody tr th:only-of-type {\n",
       "        vertical-align: middle;\n",
       "    }\n",
       "\n",
       "    .dataframe tbody tr th {\n",
       "        vertical-align: top;\n",
       "    }\n",
       "\n",
       "    .dataframe thead th {\n",
       "        text-align: right;\n",
       "    }\n",
       "</style>\n",
       "<table border=\"1\" class=\"dataframe\">\n",
       "  <thead>\n",
       "    <tr style=\"text-align: right;\">\n",
       "      <th></th>\n",
       "      <th>text</th>\n",
       "      <th>emotion</th>\n",
       "      <th>label</th>\n",
       "      <th>clean_text</th>\n",
       "    </tr>\n",
       "  </thead>\n",
       "  <tbody>\n",
       "    <tr>\n",
       "      <th>0</th>\n",
       "      <td>i didnt feel humiliated</td>\n",
       "      <td>sadness</td>\n",
       "      <td>0</td>\n",
       "      <td>didnt feel humiliated</td>\n",
       "    </tr>\n",
       "    <tr>\n",
       "      <th>1</th>\n",
       "      <td>i can go from feeling so hopeless to so damned...</td>\n",
       "      <td>sadness</td>\n",
       "      <td>0</td>\n",
       "      <td>go feeling hopeless damned hopeful around some...</td>\n",
       "    </tr>\n",
       "    <tr>\n",
       "      <th>2</th>\n",
       "      <td>im grabbing a minute to post i feel greedy wrong</td>\n",
       "      <td>anger</td>\n",
       "      <td>1</td>\n",
       "      <td>im grabbing minute post feel greedy wrong</td>\n",
       "    </tr>\n",
       "    <tr>\n",
       "      <th>3</th>\n",
       "      <td>i am ever feeling nostalgic about the fireplac...</td>\n",
       "      <td>love</td>\n",
       "      <td>2</td>\n",
       "      <td>ever feeling nostalgic fireplace know still pr...</td>\n",
       "    </tr>\n",
       "    <tr>\n",
       "      <th>4</th>\n",
       "      <td>i am feeling grouchy</td>\n",
       "      <td>anger</td>\n",
       "      <td>1</td>\n",
       "      <td>feeling grouchy</td>\n",
       "    </tr>\n",
       "    <tr>\n",
       "      <th>...</th>\n",
       "      <td>...</td>\n",
       "      <td>...</td>\n",
       "      <td>...</td>\n",
       "      <td>...</td>\n",
       "    </tr>\n",
       "    <tr>\n",
       "      <th>15995</th>\n",
       "      <td>i just had a very brief time in the beanbag an...</td>\n",
       "      <td>sadness</td>\n",
       "      <td>0</td>\n",
       "      <td>brief time beanbag said anna feel like beaten</td>\n",
       "    </tr>\n",
       "    <tr>\n",
       "      <th>15996</th>\n",
       "      <td>i am now turning and i feel pathetic that i am...</td>\n",
       "      <td>sadness</td>\n",
       "      <td>0</td>\n",
       "      <td>turning feel pathetic still waiting tables sub...</td>\n",
       "    </tr>\n",
       "    <tr>\n",
       "      <th>15997</th>\n",
       "      <td>i feel strong and good overall</td>\n",
       "      <td>joy</td>\n",
       "      <td>5</td>\n",
       "      <td>feel strong good overall</td>\n",
       "    </tr>\n",
       "    <tr>\n",
       "      <th>15998</th>\n",
       "      <td>i feel like this was such a rude comment and i...</td>\n",
       "      <td>anger</td>\n",
       "      <td>1</td>\n",
       "      <td>feel like rude comment im glad</td>\n",
       "    </tr>\n",
       "    <tr>\n",
       "      <th>15999</th>\n",
       "      <td>i know a lot but i feel so stupid because i ca...</td>\n",
       "      <td>sadness</td>\n",
       "      <td>0</td>\n",
       "      <td>know lot feel stupid portray</td>\n",
       "    </tr>\n",
       "  </tbody>\n",
       "</table>\n",
       "<p>16000 rows × 4 columns</p>\n",
       "</div>"
      ],
      "text/plain": [
       "                                                    text  emotion  label  \\\n",
       "0                                i didnt feel humiliated  sadness      0   \n",
       "1      i can go from feeling so hopeless to so damned...  sadness      0   \n",
       "2       im grabbing a minute to post i feel greedy wrong    anger      1   \n",
       "3      i am ever feeling nostalgic about the fireplac...     love      2   \n",
       "4                                   i am feeling grouchy    anger      1   \n",
       "...                                                  ...      ...    ...   \n",
       "15995  i just had a very brief time in the beanbag an...  sadness      0   \n",
       "15996  i am now turning and i feel pathetic that i am...  sadness      0   \n",
       "15997                     i feel strong and good overall      joy      5   \n",
       "15998  i feel like this was such a rude comment and i...    anger      1   \n",
       "15999  i know a lot but i feel so stupid because i ca...  sadness      0   \n",
       "\n",
       "                                              clean_text  \n",
       "0                                  didnt feel humiliated  \n",
       "1      go feeling hopeless damned hopeful around some...  \n",
       "2              im grabbing minute post feel greedy wrong  \n",
       "3      ever feeling nostalgic fireplace know still pr...  \n",
       "4                                        feeling grouchy  \n",
       "...                                                  ...  \n",
       "15995      brief time beanbag said anna feel like beaten  \n",
       "15996  turning feel pathetic still waiting tables sub...  \n",
       "15997                           feel strong good overall  \n",
       "15998                     feel like rude comment im glad  \n",
       "15999                       know lot feel stupid portray  \n",
       "\n",
       "[16000 rows x 4 columns]"
      ]
     },
     "execution_count": 5,
     "metadata": {},
     "output_type": "execute_result"
    }
   ],
   "source": [
    "df"
   ]
  },
  {
   "cell_type": "markdown",
   "id": "ac2fdb3c",
   "metadata": {},
   "source": [
    "## 3. Split & Vectorize"
   ]
  },
  {
   "cell_type": "code",
   "execution_count": 6,
   "id": "7a334163",
   "metadata": {},
   "outputs": [],
   "source": [
    "from sklearn.model_selection import train_test_split\n",
    "from sklearn.feature_extraction.text import CountVectorizer, TfidfVectorizer\n",
    "\n",
    "\n",
    "X_train, X_test, y_train, y_test = train_test_split(\n",
    "    df[\"clean_text\"], df[\"label\"], test_size=0.2, random_state=42, stratify=df[\"label\"])\n",
    "\n",
    "tfidf = TfidfVectorizer()\n",
    "X_train_tfidf = tfidf.fit_transform(X_train)\n",
    "X_test_tfidf = tfidf.transform(X_test)\n",
    "\n",
    "bow = CountVectorizer()\n",
    "X_train_bow = bow.fit_transform(X_train)\n",
    "X_test_bow = bow.transform(X_test)"
   ]
  },
  {
   "cell_type": "markdown",
   "id": "b9d7602f",
   "metadata": {},
   "source": [
    "## 4. Train Models & Compare"
   ]
  },
  {
   "cell_type": "code",
   "execution_count": 13,
   "id": "ce744ff8",
   "metadata": {},
   "outputs": [
    {
     "name": "stdout",
     "output_type": "stream",
     "text": [
      "                 Model Features  Accuracy\n",
      "3           Linear SVM   TF-IDF  0.887500\n",
      "4              XGBoost   TF-IDF  0.879062\n",
      "2  Logistic Regression   TF-IDF  0.850625\n",
      "0          Naive Bayes      BoW  0.767500\n",
      "1          Naive Bayes   TF-IDF  0.662188\n"
     ]
    }
   ],
   "source": [
    "results = []\n",
    "\n",
    "# Naive Bayes (BoW)\n",
    "\n",
    "nb_bow = MultinomialNB().fit(X_train_bow, y_train)\n",
    "pred_nb_bow = nb_bow.predict(X_test_bow)\n",
    "acc_nb_bow = accuracy_score(y_test, pred_nb_bow)\n",
    "results.append((\"Naive Bayes\", \"BoW\", acc_nb_bow, pred_nb_bow))\n",
    "\n",
    "# Naive Bayes (TF-IDF)\n",
    "\n",
    "nb_tfidf = MultinomialNB().fit(X_train_tfidf, y_train)\n",
    "pred_nb_tfidf = nb_tfidf.predict(X_test_tfidf)\n",
    "acc_nb_tfidf = accuracy_score(y_test, pred_nb_tfidf)\n",
    "results.append((\"Naive Bayes\", \"TF-IDF\", acc_nb_tfidf, pred_nb_tfidf))\n",
    "\n",
    "# Logistic Regression (TF-IDF)\n",
    "\n",
    "lr = LogisticRegression(max_iter=1000).fit(X_train_tfidf, y_train)\n",
    "pred_lr = lr.predict(X_test_tfidf)\n",
    "acc_lr = accuracy_score(y_test, pred_lr)\n",
    "results.append((\"Logistic Regression\", \"TF-IDF\", acc_lr, pred_lr))\n",
    "\n",
    "# Linear SVM (TF-IDF)\n",
    "\n",
    "svm = LinearSVC().fit(X_train_tfidf, y_train)\n",
    "pred_svm = svm.predict(X_test_tfidf)\n",
    "acc_svm = accuracy_score(y_test, pred_svm)\n",
    "results.append((\"Linear SVM\", \"TF-IDF\", acc_svm, pred_svm))\n",
    "\n",
    "# XGBoost \n",
    "\n",
    "xgb_clf = XGBClassifier(\n",
    "        objective=\"multi:softmax\",\n",
    "        num_class=len(set(y_train)),\n",
    "        eval_metric=\"mlogloss\",\n",
    "        n_estimators=200,\n",
    "        max_depth=6,\n",
    "        subsample=0.8,\n",
    "        colsample_bytree=0.8,\n",
    "        learning_rate=0.1,\n",
    "        n_jobs=2,\n",
    "        tree_method=\"hist\"\n",
    "    ).fit(X_train_tfidf, y_train)\n",
    "pred_xgb = xgb_clf.predict(X_test_tfidf)\n",
    "acc_xgb = accuracy_score(y_test, pred_xgb)\n",
    "results.append((\"XGBoost\", \"TF-IDF\", acc_xgb, pred_xgb))\n",
    "\n",
    "\n",
    "results_df = pd.DataFrame(results, columns=[\"Model\",\"Features\",\"Accuracy\",\"Predictions\"]).sort_values(\"Accuracy\", ascending=False)\n",
    "print(results_df[[\"Model\",\"Features\",\"Accuracy\"]])\n",
    "best_model_name, best_features, best_acc, best_preds = results_df.iloc[0]\n"
   ]
  },
  {
   "cell_type": "code",
   "execution_count": 14,
   "id": "73a6f4e9",
   "metadata": {},
   "outputs": [
    {
     "data": {
      "text/plain": [
       "Model                                                 Linear SVM\n",
       "Features                                                  TF-IDF\n",
       "Accuracy                                                  0.8875\n",
       "Predictions    [5, 0, 0, 4, 5, 0, 1, 0, 1, 1, 1, 0, 5, 0, 0, ...\n",
       "Name: 3, dtype: object"
      ]
     },
     "execution_count": 14,
     "metadata": {},
     "output_type": "execute_result"
    }
   ],
   "source": [
    "results_df.iloc[0]"
   ]
  },
  {
   "cell_type": "markdown",
   "id": "93e4365f",
   "metadata": {},
   "source": [
    "## 5. Confusion Matrix & Classification Report"
   ]
  },
  {
   "cell_type": "code",
   "execution_count": 9,
   "id": "abab740f",
   "metadata": {},
   "outputs": [
    {
     "name": "stdout",
     "output_type": "stream",
     "text": [
      "Classification Report (best model):\n",
      "              precision    recall  f1-score   support\n",
      "\n",
      "     sadness       0.92      0.93      0.92       933\n",
      "       anger       0.87      0.84      0.86       432\n",
      "        love       0.85      0.72      0.78       261\n",
      "    surprise       0.84      0.74      0.79       115\n",
      "        fear       0.89      0.84      0.86       387\n",
      "         joy       0.88      0.95      0.91      1072\n",
      "\n",
      "    accuracy                           0.89      3200\n",
      "   macro avg       0.88      0.83      0.85      3200\n",
      "weighted avg       0.89      0.89      0.89      3200\n",
      "\n"
     ]
    },
    {
     "data": {
      "image/png": "[encoded data removed]",
      "text/plain": [
       "<Figure size 720x576 with 1 Axes>"
      ]
     },
     "metadata": {
      "needs_background": "light"
     },
     "output_type": "display_data"
    }
   ],
   "source": [
    "from sklearn.metrics import confusion_matrix, classification_report\n",
    "\n",
    "cm = confusion_matrix(y_test, best_preds)\n",
    "print(\"Classification Report (best model):\")\n",
    "print(classification_report(y_test, best_preds, target_names=[emotion_numbers[i] for i in sorted(emotion_numbers.keys())]))\n",
    "\n",
    "plt.figure(figsize=(10,8))\n",
    "plt.imshow(cm,cmap='cool')\n",
    "plt.title(f\"Confusion Matrix - {best_model_name}\")\n",
    "plt.xlabel(\"Predicted\")\n",
    "plt.ylabel(\"True\")\n",
    "for (i, j), v in np.ndenumerate(cm):\n",
    "    plt.text(j, i, str(v), ha='center', va='center')\n",
    "plt.tight_layout()\n",
    "plt.show()\n"
   ]
  },
  {
   "cell_type": "markdown",
   "id": "1fc8c53c",
   "metadata": {},
   "source": [
    "## 6. Visualization: Emotion Distribution "
   ]
  },
  {
   "cell_type": "code",
   "execution_count": 10,
   "id": "32e0a046",
   "metadata": {},
   "outputs": [
    {
     "data": {
      "image/png": "[encoded data removed]",
      "text/plain": [
       "<Figure size 720x432 with 1 Axes>"
      ]
     },
     "metadata": {
      "needs_background": "light"
     },
     "output_type": "display_data"
    }
   ],
   "source": [
    "counts = df[\"emotion\"].value_counts()\n",
    "plt.figure(figsize=(10,6))\n",
    "sns.barplot(x=counts.index, y=counts.values)\n",
    "plt.title(\"Emotion Distribution\")\n",
    "plt.xlabel(\"Emotion\")\n",
    "plt.ylabel(\"Count\")\n",
    "plt.xticks(rotation=45, ha='right')\n",
    "plt.tight_layout()\n",
    "plt.show()"
   ]
  },
  {
   "cell_type": "markdown",
   "id": "d9d3b8e8",
   "metadata": {},
   "source": [
    "## 7. Hyperparameter Tuning (GridSearchCV)"
   ]
  },
  {
   "cell_type": "code",
   "execution_count": 11,
   "id": "d844b152",
   "metadata": {},
   "outputs": [
    {
     "name": "stdout",
     "output_type": "stream",
     "text": [
      "Best LR params: {'C': 3.0, 'penalty': 'l2', 'solver': 'liblinear'}  | Accuracy: 0.873125\n",
      "Best NB params: {'alpha': 0.1}  | Accuracy: 0.745625\n"
     ]
    }
   ],
   "source": [
    "from sklearn.model_selection import GridSearchCV\n",
    "\n",
    "# Logistic Regression tuning\n",
    "lr_params = {\"C\":[0.1,1.0,3.0], \"penalty\":[\"l2\"], \"solver\":[\"lbfgs\",\"liblinear\"]}\n",
    "lr_grid = GridSearchCV(LogisticRegression(max_iter=1000), lr_params, cv=3, n_jobs=-1).fit(X_train_tfidf, y_train)\n",
    "best_lr = lr_grid.best_estimator_\n",
    "best_lr_acc = accuracy_score(y_test, best_lr.predict(X_test_tfidf))\n",
    "print(\"Best LR params:\", lr_grid.best_params_, \" | Accuracy:\", best_lr_acc)\n",
    "\n",
    "# Naive Bayes tuning\n",
    "nb_params = {\"alpha\":[0.1,0.5,1.0]}\n",
    "nb_grid = GridSearchCV(MultinomialNB(), nb_params, cv=3, n_jobs=-1).fit(X_train_tfidf, y_train)\n",
    "best_nb = nb_grid.best_estimator_\n",
    "best_nb_acc = accuracy_score(y_test, best_nb.predict(X_test_tfidf))\n",
    "print(\"Best NB params:\", nb_grid.best_params_, \" | Accuracy:\", best_nb_acc)\n"
   ]
  },
  {
   "cell_type": "markdown",
   "id": "fe4b7c23",
   "metadata": {},
   "source": [
    "## 8. Error Analysis"
   ]
  },
  {
   "cell_type": "code",
   "execution_count": 12,
   "id": "0ce92aa6",
   "metadata": {},
   "outputs": [
    {
     "name": "stdout",
     "output_type": "stream",
     "text": [
      "Overall best: Linear SVM | Accuracy: 0.8875\n",
      "Sample misclassifications:\n"
     ]
    },
    {
     "data": {
      "text/html": [
       "<div>\n",
       "<style scoped>\n",
       "    .dataframe tbody tr th:only-of-type {\n",
       "        vertical-align: middle;\n",
       "    }\n",
       "\n",
       "    .dataframe tbody tr th {\n",
       "        vertical-align: top;\n",
       "    }\n",
       "\n",
       "    .dataframe thead th {\n",
       "        text-align: right;\n",
       "    }\n",
       "</style>\n",
       "<table border=\"1\" class=\"dataframe\">\n",
       "  <thead>\n",
       "    <tr style=\"text-align: right;\">\n",
       "      <th></th>\n",
       "      <th>text</th>\n",
       "      <th>true</th>\n",
       "      <th>pred</th>\n",
       "      <th>true_label</th>\n",
       "      <th>pred_label</th>\n",
       "    </tr>\n",
       "  </thead>\n",
       "  <tbody>\n",
       "    <tr>\n",
       "      <th>7</th>\n",
       "      <td>girlfriend sent letter shiny picture</td>\n",
       "      <td>5</td>\n",
       "      <td>0</td>\n",
       "      <td>joy</td>\n",
       "      <td>sadness</td>\n",
       "    </tr>\n",
       "    <tr>\n",
       "      <th>23</th>\n",
       "      <td>feelings seriously feel love someone treats di...</td>\n",
       "      <td>5</td>\n",
       "      <td>2</td>\n",
       "      <td>joy</td>\n",
       "      <td>love</td>\n",
       "    </tr>\n",
       "    <tr>\n",
       "      <th>35</th>\n",
       "      <td>eyes questionable whether shes feeling graciou...</td>\n",
       "      <td>2</td>\n",
       "      <td>5</td>\n",
       "      <td>love</td>\n",
       "      <td>joy</td>\n",
       "    </tr>\n",
       "    <tr>\n",
       "      <th>43</th>\n",
       "      <td>hate im refered game guitar hero mean cool got...</td>\n",
       "      <td>1</td>\n",
       "      <td>5</td>\n",
       "      <td>anger</td>\n",
       "      <td>joy</td>\n",
       "    </tr>\n",
       "    <tr>\n",
       "      <th>47</th>\n",
       "      <td>feel like shouldnt bother people petty stupid ...</td>\n",
       "      <td>1</td>\n",
       "      <td>0</td>\n",
       "      <td>anger</td>\n",
       "      <td>sadness</td>\n",
       "    </tr>\n",
       "    <tr>\n",
       "      <th>48</th>\n",
       "      <td>barely even feel like explaining weird history...</td>\n",
       "      <td>3</td>\n",
       "      <td>5</td>\n",
       "      <td>surprise</td>\n",
       "      <td>joy</td>\n",
       "    </tr>\n",
       "    <tr>\n",
       "      <th>60</th>\n",
       "      <td>hate seeing red windows even feel inside reson...</td>\n",
       "      <td>1</td>\n",
       "      <td>0</td>\n",
       "      <td>anger</td>\n",
       "      <td>sadness</td>\n",
       "    </tr>\n",
       "    <tr>\n",
       "      <th>63</th>\n",
       "      <td>feel blessed given chance love</td>\n",
       "      <td>2</td>\n",
       "      <td>5</td>\n",
       "      <td>love</td>\n",
       "      <td>joy</td>\n",
       "    </tr>\n",
       "    <tr>\n",
       "      <th>67</th>\n",
       "      <td>know feelings stem part accepted mainstream im...</td>\n",
       "      <td>5</td>\n",
       "      <td>2</td>\n",
       "      <td>joy</td>\n",
       "      <td>love</td>\n",
       "    </tr>\n",
       "    <tr>\n",
       "      <th>70</th>\n",
       "      <td>watched thanksgiving morning feeling doubly bl...</td>\n",
       "      <td>2</td>\n",
       "      <td>5</td>\n",
       "      <td>love</td>\n",
       "      <td>joy</td>\n",
       "    </tr>\n",
       "  </tbody>\n",
       "</table>\n",
       "</div>"
      ],
      "text/plain": [
       "                                                 text  true  pred true_label  \\\n",
       "7                girlfriend sent letter shiny picture     5     0        joy   \n",
       "23  feelings seriously feel love someone treats di...     5     2        joy   \n",
       "35  eyes questionable whether shes feeling graciou...     2     5       love   \n",
       "43  hate im refered game guitar hero mean cool got...     1     5      anger   \n",
       "47  feel like shouldnt bother people petty stupid ...     1     0      anger   \n",
       "48  barely even feel like explaining weird history...     3     5   surprise   \n",
       "60  hate seeing red windows even feel inside reson...     1     0      anger   \n",
       "63                     feel blessed given chance love     2     5       love   \n",
       "67  know feelings stem part accepted mainstream im...     5     2        joy   \n",
       "70  watched thanksgiving morning feeling doubly bl...     2     5       love   \n",
       "\n",
       "   pred_label  \n",
       "7     sadness  \n",
       "23       love  \n",
       "35        joy  \n",
       "43        joy  \n",
       "47    sadness  \n",
       "48        joy  \n",
       "60    sadness  \n",
       "63        joy  \n",
       "67       love  \n",
       "70        joy  "
      ]
     },
     "execution_count": 12,
     "metadata": {},
     "output_type": "execute_result"
    }
   ],
   "source": [
    "# pick best overall among earlier best and tuned ones\n",
    "\n",
    "candidates = [(best_model_name, best_acc, best_preds)]\n",
    "candidates.append((\"Logistic Regression (Tuned)\", best_lr_acc, best_lr.predict(X_test_tfidf)))\n",
    "candidates.append((\"Naive Bayes (Tuned)\", best_nb_acc, best_nb.predict(X_test_tfidf)))\n",
    "overall_best = max(candidates, key=lambda x: x[1])\n",
    "overall_name, overall_acc, overall_pred = overall_best\n",
    "\n",
    "test_df = pd.DataFrame({\"text\": X_test.values, \"true\": y_test.values, \"pred\": overall_pred})\n",
    "test_df[\"true_label\"] = test_df[\"true\"].map(emotion_numbers)\n",
    "test_df[\"pred_label\"] = test_df[\"pred\"].map(emotion_numbers)\n",
    "mis_df = test_df[test_df[\"true\"] != test_df[\"pred\"]].copy()\n",
    "print(f\"Overall best: {overall_name} | Accuracy: {overall_acc:.4f}\")\n",
    "print(\"Sample misclassifications:\")\n",
    "mis_df.head(10)\n"
   ]
  },
  {
   "cell_type": "markdown",
   "id": "9d44cc95",
   "metadata": {},
   "source": [
    "**THANK YOU**"
   ]
  }
 ],
 "metadata": {
  "kernelspec": {
   "display_name": "Python 3 (ipykernel)",
   "language": "python",
   "name": "python3"
  },
  "language_info": {
   "codemirror_mode": {
    "name": "ipython",
    "version": 3
   },
   "file_extension": ".py",
   "mimetype": "text/x-python",
   "name": "python",
   "nbconvert_exporter": "python",
   "pygments_lexer": "ipython3",
   "version": "3.9.12"
  }
 },
 "nbformat": 4,
 "nbformat_minor": 5
}
